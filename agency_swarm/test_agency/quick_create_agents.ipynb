{
 "cells": [
  {
   "cell_type": "markdown",
   "metadata": {},
   "source": [
    "# 快速创建一个Agent目录结构"
   ]
  },
  {
   "cell_type": "code",
   "execution_count": 53,
   "metadata": {},
   "outputs": [],
   "source": [
    "# %load_ext autoreload\n",
    "# %autoreload 2\n",
    "# import sys\n",
    "# sys.dont_write_bytecode = True\n",
    "\n",
    "# import shutil\n",
    "# import os\n",
    "\n",
    "# sys.path.insert(0, '../agency-swarm')\n",
    "# from agency_swarm.util import create_agent_template"
   ]
  },
  {
   "cell_type": "code",
   "execution_count": 54,
   "metadata": {},
   "outputs": [],
   "source": [
    "# agents_root_dir = \"./test_agents\"\n",
    "# if not os.path.exists(agents_root_dir):\n",
    "#     os.mkdir(agents_root_dir)\n",
    "# # else:\n",
    "# #     shutil.rmtree(agents_root_dir)\n",
    "# #     os.mkdir(agents_root_dir)\n",
    "\n",
    "# # create init file\n",
    "# with open(\"./test_agents/__init__.py\", \"w\") as f:\n",
    "#     f.write(\"\")\n",
    "\n",
    "# # create agent templates in test_agents\n",
    "\n",
    "# create_agent_template(\"AKSK\", \"AKSK Agent\", path=\"./test_agents\",\n",
    "#                         instructions=\"你唯一的任务是调用`Get_Credentials()`函数获取 access_key 和 secret_key，函数会以(access_key, secret_key)元组的方式返回。与该任务无关的请求你必须拒绝回答\",\n",
    "#                         include_example_tool=True)\n",
    "\n",
    "# create_agent_template(\"REST API Caller\", \"REST API Caller 发送请求来调用已经构造好的API。\", path=\"./test_agents\",\n",
    "#                         instructions=\n",
    "#                         \"\"\"你的职责是严格按照如下步骤发送请求来调用API。\n",
    "#                         步骤1. 从接受的消息中提取可以调用的API，如果无法提取出可以调用的API，则需要和用户沟通。若提取出可调用的API后，执行步骤二。\n",
    "#                         步骤2. 向AKSK Agent索要 access_key/secret_key 信息（显式要求AKSK Agent以json格式回复信息）\n",
    "#                         步骤3. 调用`REST_API_Requset()`函数执行API调用。\n",
    "#                         步骤4. 回复请求响应的所有信息，并分析。\n",
    "#                         注意，超出职责范围的请求必须拒绝回复。\n",
    "#                         \"\"\",\n",
    "#                         include_example_tool=True)"
   ]
  },
  {
   "cell_type": "markdown",
   "metadata": {},
   "source": [
    "# 创建Agency并测试"
   ]
  },
  {
   "cell_type": "code",
   "execution_count": 55,
   "metadata": {},
   "outputs": [
    {
     "name": "stdout",
     "output_type": "stream",
     "text": [
      "The autoreload extension is already loaded. To reload it, use:\n",
      "  %reload_ext autoreload\n"
     ]
    }
   ],
   "source": [
    "%load_ext autoreload\n",
    "%autoreload 2\n",
    "import sys\n",
    "\n",
    "from agency_swarm import set_openai_key, Agent, Agency, AgencyEventHandler, get_openai_client\n",
    "def get_my_openai_key():\n",
    "    import json\n",
    "    try:\n",
    "        with open(\"C:/Users/fei19_vysxm3p/Documents/Workstation/Git/Infini-Agency-Lab/MyConfig.json\", 'r') as f:\n",
    "            config = json.load(f)\n",
    "            return config['openai']['api_key']\n",
    "    except FileNotFoundError:\n",
    "        print(\"配置文件不存在\")\n",
    "        return None\n",
    "    except KeyError:\n",
    "        print(\"配置文件格式错误\")\n",
    "        return None\n",
    "\n",
    "set_openai_key(get_my_openai_key())\n",
    "\n"
   ]
  },
  {
   "cell_type": "code",
   "execution_count": 56,
   "metadata": {},
   "outputs": [],
   "source": [
    "from test_agents.AKSK import AKSK\n",
    "from test_agents.RESTAPICaller import RESTAPICaller\n",
    "agent_aksk = AKSK()\n",
    "agent_aksk.response_format = {\n",
    "            \"type\": \"json_object\",\n",
    "        }\n",
    "\n",
    "agent_api_call = RESTAPICaller()"
   ]
  },
  {
   "cell_type": "code",
   "execution_count": 57,
   "metadata": {},
   "outputs": [
    {
     "name": "stdout",
     "output_type": "stream",
     "text": [
      "Updating agent... REST API Caller\n",
      "Updating agent... AKSK\n"
     ]
    }
   ],
   "source": [
    "agency = Agency([\n",
    "            agent_api_call,\n",
    "            [agent_api_call, agent_aksk]],\n",
    "            shared_instructions=\"This is a shared instruction\",\n",
    "            temperature=0,\n",
    "        )"
   ]
  },
  {
   "cell_type": "code",
   "execution_count": 58,
   "metadata": {},
   "outputs": [
    {
     "data": {
      "text/plain": [
       "<generator object Thread.get_completion at 0x000001D82952E6E0>"
      ]
     },
     "execution_count": 58,
     "metadata": {},
     "output_type": "execute_result"
    }
   ],
   "source": [
    "# agency.get_completion(\"请获取AK/SK。以json格式回复我\")\n",
    "agency.get_completion(\"请调用以下API请求：GET https://ecs.cn-north-4.myhuaweicloud.com/v1/0f51a9e00c80f40f2f3cc00be3572e74/cloudservers/2900ccac-033c-4206-936e-4fa30f544b80\",yield_messages = True)"
   ]
  },
  {
   "cell_type": "markdown",
   "metadata": {},
   "source": []
  },
  {
   "cell_type": "code",
   "execution_count": null,
   "metadata": {},
   "outputs": [
    {
     "name": "stdout",
     "output_type": "stream",
     "text": [
      "Running on local URL:  http://127.0.0.1:7862\n",
      "\n",
      "To create a public link, set `share=True` in `launch()`.\n"
     ]
    },
    {
     "data": {
      "text/html": [
       "<div><iframe src=\"http://127.0.0.1:7862/\" width=\"100%\" height=\"500\" allow=\"autoplay; camera; microphone; clipboard-read; clipboard-write;\" frameborder=\"0\" allowfullscreen></iframe></div>"
      ],
      "text/plain": [
       "<IPython.core.display.HTML object>"
      ]
     },
     "metadata": {},
     "output_type": "display_data"
    },
    {
     "data": {
      "text/plain": [
       "Gradio Blocks instance: 6 backend functions\n",
       "-------------------------------------------\n",
       "fn_index=0\n",
       " inputs:\n",
       " |-<gradio.components.textbox.Textbox object at 0x000001D82B4B7D50>\n",
       " |-<gradio.components.chatbot.Chatbot object at 0x000001D82B09F790>\n",
       " outputs:\n",
       " |-<gradio.components.textbox.Textbox object at 0x000001D82B4B7D50>\n",
       " |-<gradio.components.chatbot.Chatbot object at 0x000001D82B09F790>\n",
       "fn_index=1\n",
       " inputs:\n",
       " |-<gradio.components.textbox.Textbox object at 0x000001D82B4B7D50>\n",
       " |-<gradio.components.chatbot.Chatbot object at 0x000001D82B09F790>\n",
       " outputs:\n",
       " |-<gradio.components.textbox.Textbox object at 0x000001D82B4B7D50>\n",
       " |-<gradio.components.chatbot.Chatbot object at 0x000001D82B09F790>\n",
       "fn_index=2\n",
       " inputs:\n",
       " |-<gradio.components.dropdown.Dropdown object at 0x000001D829D7B990>\n",
       " outputs:\n",
       "fn_index=3\n",
       " inputs:\n",
       " |-<gradio.templates.Files object at 0x000001D82B3E44D0>\n",
       " outputs:\n",
       "fn_index=4\n",
       " inputs:\n",
       " |-<gradio.components.textbox.Textbox object at 0x000001D82B4B7D50>\n",
       " |-<gradio.components.chatbot.Chatbot object at 0x000001D82B09F790>\n",
       " outputs:\n",
       " |-<gradio.components.textbox.Textbox object at 0x000001D82B4B7D50>\n",
       " |-<gradio.components.chatbot.Chatbot object at 0x000001D82B09F790>\n",
       "fn_index=5\n",
       " inputs:\n",
       " |-<gradio.components.textbox.Textbox object at 0x000001D82B4B7D50>\n",
       " |-<gradio.components.chatbot.Chatbot object at 0x000001D82B09F790>\n",
       " outputs:\n",
       " |-<gradio.components.textbox.Textbox object at 0x000001D82B4B7D50>\n",
       " |-<gradio.components.chatbot.Chatbot object at 0x000001D82B09F790>"
      ]
     },
     "execution_count": 59,
     "metadata": {},
     "output_type": "execute_result"
    },
    {
     "name": "stdout",
     "output_type": "stream",
     "text": [
      "IMPORTANT: You are using gradio version 4.26.0, however version 4.44.1 is available, please upgrade.\n",
      "--------\n",
      "Message files:  []\n",
      "Images:  []\n",
      "THREAD:[ user -> REST API Caller ]: URL https://platform.openai.com/playground/assistants?assistant=asst_TMHpf41GzsnDJ4BZIibJIeL8&mode=assistant&thread=thread_REn5MnKRZ5ZlRG7efXQXIWyo\n",
      "Message files:  []\n",
      "Images:  []\n",
      "THREAD:[ user -> REST API Caller ]: URL https://platform.openai.com/playground/assistants?assistant=asst_TMHpf41GzsnDJ4BZIibJIeL8&mode=assistant&thread=thread_REn5MnKRZ5ZlRG7efXQXIWyo\n",
      "THREAD:[ REST API Caller -> AKSK ]: URL https://platform.openai.com/playground/assistants?assistant=asst_2KAvg9xNjbyW6XcEZmc4BaDl&mode=assistant&thread=thread_b0XnFcBtsnDg7qvweoKTpZPy\n",
      "current_dir:c:\\Users\\fei19_vysxm3p\\Documents\\Workstation\\Git\\Infini-Agency-Lab\\notebooks\\test_agents\\AKSK\\tools\n"
     ]
    }
   ],
   "source": [
    "agency.demo_gradio()"
   ]
  }
 ],
 "metadata": {
  "kernelspec": {
   "display_name": "Python 3",
   "language": "python",
   "name": "python3"
  },
  "language_info": {
   "codemirror_mode": {
    "name": "ipython",
    "version": 3
   },
   "file_extension": ".py",
   "mimetype": "text/x-python",
   "name": "python",
   "nbconvert_exporter": "python",
   "pygments_lexer": "ipython3",
   "version": "3.11.9"
  }
 },
 "nbformat": 4,
 "nbformat_minor": 2
}
